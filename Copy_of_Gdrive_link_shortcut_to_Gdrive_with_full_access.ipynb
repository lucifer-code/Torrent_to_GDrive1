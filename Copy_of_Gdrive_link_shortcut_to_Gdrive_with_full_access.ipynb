{
  "nbformat": 4,
  "nbformat_minor": 0,
  "metadata": {
    "colab": {
      "name": "Copy of Gdrive_link_shortcut_to_Gdrive_with_full_access.ipynb",
      "provenance": [],
      "collapsed_sections": [],
      "authorship_tag": "ABX9TyNWhS0Cz3kNOrVv+AUGcI52",
      "include_colab_link": true
    },
    "kernelspec": {
      "name": "python3",
      "display_name": "Python 3"
    }
  },
  "cells": [
    {
      "cell_type": "markdown",
      "metadata": {
        "id": "view-in-github",
        "colab_type": "text"
      },
      "source": [
        "<a href=\"https://colab.research.google.com/github/lucifer-code/Torrent_to_GDrive1/blob/main/Copy_of_Gdrive_link_shortcut_to_Gdrive_with_full_access.ipynb\" target=\"_parent\"><img src=\"https://colab.research.google.com/assets/colab-badge.svg\" alt=\"Open In Colab\"/></a>"
      ]
    },
    {
      "cell_type": "code",
      "metadata": {
        "colab": {
          "base_uri": "https://localhost:8080/"
        },
        "id": "uHgaMMYkeJ57",
        "outputId": "97495fb8-d570-46ed-c268-fa124bbbef5c"
      },
      "source": [
        "from google.colab import drive\r\n",
        "drive.mount('/gdrive')\r\n"
      ],
      "execution_count": null,
      "outputs": [
        {
          "output_type": "stream",
          "text": [
            "Mounted at /gdrive\n"
          ],
          "name": "stdout"
        }
      ]
    },
    {
      "cell_type": "code",
      "metadata": {
        "id": "uYTTVPVxeXsG",
        "colab": {
          "base_uri": "https://localhost:8080/"
        },
        "outputId": "9240f05c-7c89-4d02-b715-e78fae448c83"
      },
      "source": [
        "!curl -s https://raw.githubusercontent.com/sivel/speedtest-cli/master/speedtest.py | python -"
      ],
      "execution_count": null,
      "outputs": [
        {
          "output_type": "stream",
          "text": [
            "Retrieving speedtest.net configuration...\n",
            "Testing from Google Cloud (34.73.45.216)...\n",
            "Retrieving speedtest.net server list...\n",
            "Selecting best server based on ping...\n",
            "Hosted by Hosted Backbone (Richmond, VA) [554.28 km]: 19.321 ms\n",
            "Testing download speed................................................................................\n",
            "Download: 2015.81 Mbit/s\n",
            "Testing upload speed......................................................................................................\n",
            "Upload: 581.08 Mbit/s\n"
          ],
          "name": "stdout"
        }
      ]
    },
    {
      "cell_type": "code",
      "metadata": {
        "colab": {
          "base_uri": "https://localhost:8080/"
        },
        "id": "dn7cIQM0eeid",
        "outputId": "8e0f01ce-07de-4a92-eb53-45219c9c2205"
      },
      "source": [
        "!ls '/gdrive/'\r\n"
      ],
      "execution_count": null,
      "outputs": [
        {
          "output_type": "stream",
          "text": [
            "MyDrive  Shareddrives\n"
          ],
          "name": "stdout"
        }
      ]
    },
    {
      "cell_type": "code",
      "metadata": {
        "colab": {
          "base_uri": "https://localhost:8080/"
        },
        "id": "H5aKgZ4Ae4R6",
        "outputId": "61648541-ae57-4ca5-ba53-77ce7f007c26"
      },
      "source": [
        "!ls '/gdrive/Shared drives/torrent/Torrent/'"
      ],
      "execution_count": null,
      "outputs": [
        {
          "output_type": "stream",
          "text": [
            " Animes\n",
            "'Educational Courses'\n",
            " Games\n",
            " Movies\n",
            " New\n",
            " Softwares\n",
            " Tandav.2021.Hindi.S01.Complete.720p.AMZN.WEBRip.AAC.2.0ESub.x265-Shadow.BonsaiHD\n",
            "'The.White.Tiger.2021.720p.NF.WebRip.[DDP5.1-Hin-Eng].Esub.x264~The.PunisheR.mkv'\n",
            " Wallpapers\n",
            "' Web Series'\n"
          ],
          "name": "stdout"
        }
      ]
    },
    {
      "cell_type": "code",
      "metadata": {
        "id": "rqfYmPWhfb-d"
      },
      "source": [
        "!cp -av \"/gdrive/Shared drives/torrent/Torrent/\" '/gdrive/Shared drives/torrent/tor/'"
      ],
      "execution_count": null,
      "outputs": []
    }
  ]
}